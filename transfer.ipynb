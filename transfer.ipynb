{
 "cells": [
  {
   "cell_type": "code",
   "execution_count": 1,
   "metadata": {},
   "outputs": [],
   "source": [
    "import torch\n",
    "import torchvision\n",
    "import torchvision.transforms as transforms\n",
    "import matplotlib.pyplot as plt\n",
    "import numpy as np\n",
    "\n",
    "\n",
    "import torch.nn as nn\n",
    "import torch.nn.functional as F\n",
    "import torch.optim as optim\n",
    "\n",
    "import scipy.misc\n",
    "import os\n",
    "import pickle as pkl\n",
    "import numpy as np\n",
    "import argparse\n",
    "from tqdm import tqdm\n",
    "from scipy.misc import imresize"
   ]
  },
  {
   "cell_type": "code",
   "execution_count": 2,
   "metadata": {},
   "outputs": [],
   "source": [
    "\n",
    "class Net(nn.Module):\n",
    "    def __init__(self):\n",
    "        super(Net, self).__init__()\n",
    "        # torch.nn.Conv2d(in_channels, out_channels, kernel_size, stride=1, padding=0, dilation=1, groups=1, bias=True, padding_mode='zeros')\n",
    "        # In the simplest case, the output value of the layer with input size (N,Cin,H,W)(N, C_{\\text{in}}, H, W)(N,Cin​,H,W) and output (N,Cout,Hout,Wout)(N, C_{\\text{out}}, H_{\\text{out}}, W_{\\text{out}})(N,Cout​,Hout​,Wout​) \n",
    "        self.conv1 = nn.Conv2d(3, 32, 5, 1, 2)\n",
    "        self.pool1 = nn.MaxPool2d(3,2, ceil_mode = True)\n",
    "        self.conv2 = nn.Conv2d(32, 16, 5, 1, 2)\n",
    "        self.pool2 = nn.AvgPool2d(3, 2, ceil_mode = True)\n",
    "        self.conv3 = nn.Conv2d(16, 32, 5, 1, 2)\n",
    "        self.pool3 = nn.AvgPool2d(3, 2, ceil_mode = True)\n",
    "        self.fc1 = nn.Linear(32*4*4, 10)\n",
    "\n",
    "    def forward(self, x):\n",
    "        t1 = F.relu(self.pool1(self.conv1(x)))\n",
    "        t2 = self.pool2(F.relu(self.conv2(t1)))\n",
    "        t3 = self.pool3(F.relu(self.conv3(t2)))\n",
    "        x = t3.view(-1, 32 * 4 * 4)\n",
    "        x = self.fc1(x)\n",
    "        return x\n"
   ]
  },
  {
   "cell_type": "markdown",
   "metadata": {},
   "source": [
    "as fixed feature extractor"
   ]
  },
  {
   "cell_type": "code",
   "execution_count": 4,
   "metadata": {},
   "outputs": [
    {
     "name": "stdout",
     "output_type": "stream",
     "text": [
      "512\n"
     ]
    }
   ],
   "source": [
    "num_ftrs = net.fc1.in_features\n",
    "print(num_ftrs)\n",
    "net.fc1 = nn.Linear(num_ftrs, 2)"
   ]
  },
  {
   "cell_type": "code",
   "execution_count": 5,
   "metadata": {},
   "outputs": [],
   "source": [
    "net = net.to(device)"
   ]
  },
  {
   "cell_type": "code",
   "execution_count": 6,
   "metadata": {},
   "outputs": [],
   "source": [
    "import torch\n",
    "import torchvision\n",
    "import torchvision.transforms as transforms"
   ]
  },
  {
   "cell_type": "code",
   "execution_count": 7,
   "metadata": {},
   "outputs": [],
   "source": [
    "from PIL import Image"
   ]
  },
  {
   "cell_type": "code",
   "execution_count": 8,
   "metadata": {},
   "outputs": [],
   "source": [
    "# im = Image.open(os.path.join(data_base,\"1528642314.jpg\"))\n",
    "# transform = transforms.Compose(\n",
    "#     [\n",
    "#     transforms.Resize((32,32)),\n",
    "#      transforms.ToTensor(),\n",
    "#      transforms.Normalize((0.5, 0.5, 0.5), (0.5, 0.5, 0.5))])\n",
    "# tm  = transform(im)\n",
    "# print(tm.shape)"
   ]
  },
  {
   "cell_type": "code",
   "execution_count": 33,
   "metadata": {},
   "outputs": [],
   "source": [
    "import pickle\n",
    "import os\n",
    "labels = pickle.load(open(\"mylabel_2.pkl\", \"rb\")) # dictionary\n",
    "data_base = \"../mydata\"\n",
    "img_files = [data for data in os.listdir(data_base) if data.endswith(\".jpg\")]\n",
    "valid_img_files = list(set(img_files) & set(labels.keys()))"
   ]
  },
  {
   "cell_type": "code",
   "execution_count": 10,
   "metadata": {},
   "outputs": [],
   "source": [
    "# tmp = scipy.misc.imread(os.path.join(data_base,\"1528642314.jpg\"))\n",
    "# print(type(tmp), tmp.shape)\n",
    "# img = torch.from_numpy(tmp)\n",
    "# img = img[np.newaxis, :]\n",
    "# img = img.permute(0,3,1,2).squeeze(0)\n",
    "# print(img.shape)"
   ]
  },
  {
   "cell_type": "code",
   "execution_count": 11,
   "metadata": {},
   "outputs": [],
   "source": [
    "images_data = []\n",
    "labels_data = []\n",
    "target_size = (32, 32)\n",
    "i = 0\n",
    "for img_name in valid_img_files:\n",
    "    im = Image.open(os.path.join(data_base,img_name))\n",
    "    transform = transforms.Compose(\n",
    "        [\n",
    "        transforms.Resize((32,32)),\n",
    "         transforms.ToTensor(),\n",
    "         transforms.Normalize((0.5, 0.5, 0.5), (0.5, 0.5, 0.5))])\n",
    "    tm  = transform(im)\n",
    "\n",
    "# tmp = scipy.misc.imread(os.path.join(data_base,\"1528642314.jpg\"))\n",
    "#     tmp = imresize(tmp, target_size)\n",
    "#     img = torch.from_numpy(tmp)\n",
    "#     img = img[np.newaxis, :]\n",
    "#     img = img.permute(0,3,1,2).squeeze(0)\n",
    "    images_data.append(tm)\n",
    "    if labels[img_name] == '1':\n",
    "        labels_data.append(1) \n",
    "    else:\n",
    "        labels_data.append(0)\n",
    "        \n",
    "#     img = scipy.misc.imread(os.path.join(self.data_base,img_name))\n",
    "#     img = imresize(img,target_size)\n",
    "#     if len(pos_data) >= pos_num and len(neg_data) >= neg_num:\n",
    "#         break\n",
    "#     if self.label[img_name] == '1':\n",
    "#         if len(pos_data) < pos_num :\n",
    "#             pos_data.append(img)\n",
    "#             pbar.update(1)\n",
    "#     else :\n",
    "#         if len(neg_data) < neg_num :\n",
    "#             neg_data.append(img)\n",
    "#             pbar.update(1)\n",
    "# pbar.close()\n",
    "# data = pos_data + neg_data\n",
    "# data = np.stack(data,axis=0)\n",
    "# label = np.concatenate((np.ones(pos_num),np.zeros(neg_num)))\n"
   ]
  },
  {
   "cell_type": "code",
   "execution_count": 12,
   "metadata": {},
   "outputs": [
    {
     "name": "stdout",
     "output_type": "stream",
     "text": [
      "<class 'list'>\n",
      "torch.Size([411, 3, 32, 32])\n",
      "411\n",
      "torch.Size([3, 32, 32])\n"
     ]
    }
   ],
   "source": [
    "print(type(images_data))\n",
    "stacked_images = torch.stack(images_data)\n",
    "print(stacked_images.shape)\n",
    "labels_data = torch.from_numpy(np.array(labels_data))\n",
    "print(len(images_data))\n",
    "print((images_data[0].shape))"
   ]
  },
  {
   "cell_type": "code",
   "execution_count": 41,
   "metadata": {},
   "outputs": [
    {
     "name": "stderr",
     "output_type": "stream",
     "text": [
      "/Users/yaohsiao/anaconda3/envs/cs231n/lib/python3.6/site-packages/torch/serialization.py:435: SourceChangeWarning: source code of class 'torch.nn.modules.conv.Conv2d' has changed. you can retrieve the original source code by accessing the object's source attribute or set `torch.nn.Module.dump_patches = True` and use the patch tool to revert the changes.\n",
      "  warnings.warn(msg, SourceChangeWarning)\n",
      "/Users/yaohsiao/anaconda3/envs/cs231n/lib/python3.6/site-packages/torch/serialization.py:435: SourceChangeWarning: source code of class 'torch.nn.modules.linear.Linear' has changed. you can retrieve the original source code by accessing the object's source attribute or set `torch.nn.Module.dump_patches = True` and use the patch tool to revert the changes.\n",
      "  warnings.warn(msg, SourceChangeWarning)\n"
     ]
    }
   ],
   "source": [
    "device = torch.device('cpu')\n",
    "net = torch.load('save_adam_61.pt',map_location=device)\n",
    "correct = 0"
   ]
  },
  {
   "cell_type": "code",
   "execution_count": 42,
   "metadata": {},
   "outputs": [],
   "source": [
    "import torch.optim as optim\n",
    "\n",
    "criterion = nn.CrossEntropyLoss()\n",
    "optimizer = optim.Adam(net.parameters(), lr = 0.0001)"
   ]
  },
  {
   "cell_type": "code",
   "execution_count": 45,
   "metadata": {},
   "outputs": [
    {
     "name": "stdout",
     "output_type": "stream",
     "text": [
      "[1,     1] loss: 0.002\n",
      "[1,    81] loss: 1.369\n",
      "[1,   161] loss: 0.398\n",
      "[1,   241] loss: 0.214\n",
      "[1,   321] loss: 2.166\n",
      "[1,   401] loss: 0.291\n",
      "[2,     1] loss: 0.002\n",
      "[2,    81] loss: 1.580\n",
      "[2,   161] loss: 0.412\n",
      "[2,   241] loss: 0.210\n",
      "[2,   321] loss: 2.227\n",
      "[2,   401] loss: 0.291\n",
      "[3,     1] loss: 0.002\n",
      "[3,    81] loss: 1.401\n",
      "[3,   161] loss: 0.383\n",
      "[3,   241] loss: 0.180\n",
      "[3,   321] loss: 2.166\n",
      "[3,   401] loss: 0.265\n",
      "[4,     1] loss: 0.001\n",
      "[4,    81] loss: 1.395\n",
      "[4,   161] loss: 0.412\n",
      "[4,   241] loss: 0.166\n",
      "[4,   321] loss: 2.218\n",
      "[4,   401] loss: 0.259\n",
      "[5,     1] loss: 0.001\n",
      "[5,    81] loss: 1.364\n",
      "[5,   161] loss: 0.409\n",
      "[5,   241] loss: 0.153\n",
      "[5,   321] loss: 2.210\n",
      "[5,   401] loss: 0.255\n",
      "[6,     1] loss: 0.001\n",
      "[6,    81] loss: 1.387\n",
      "[6,   161] loss: 0.401\n",
      "[6,   241] loss: 0.143\n",
      "[6,   321] loss: 2.251\n",
      "[6,   401] loss: 0.268\n",
      "[7,     1] loss: 0.002\n",
      "[7,    81] loss: 1.506\n",
      "[7,   161] loss: 0.404\n",
      "[7,   241] loss: 0.149\n",
      "[7,   321] loss: 2.272\n",
      "[7,   401] loss: 0.255\n",
      "[8,     1] loss: 0.001\n",
      "[8,    81] loss: 1.460\n",
      "[8,   161] loss: 0.407\n",
      "[8,   241] loss: 0.137\n",
      "[8,   321] loss: 2.240\n",
      "[8,   401] loss: 0.255\n",
      "[9,     1] loss: 0.001\n",
      "[9,    81] loss: 1.438\n",
      "[9,   161] loss: 0.392\n",
      "[9,   241] loss: 0.128\n",
      "[9,   321] loss: 2.297\n",
      "[9,   401] loss: 0.261\n",
      "[10,     1] loss: 0.001\n",
      "[10,    81] loss: 1.384\n",
      "[10,   161] loss: 0.412\n",
      "[10,   241] loss: 0.126\n",
      "[10,   321] loss: 2.264\n",
      "[10,   401] loss: 0.250\n"
     ]
    }
   ],
   "source": [
    "\n",
    "\n",
    "for epoch in range(10):  # loop over the dataset multiple times\n",
    "\n",
    "    running_loss = 0.0\n",
    "    i = 0\n",
    "    while i < 411:\n",
    "#     for i, data in enumerate(trainloader, 0):\n",
    "        # get the inputs\n",
    "#         inputs, labels = data\n",
    "        if i+5 < 411:\n",
    "            inputs = torch.stack(images_data[i:i+5])\n",
    "            tag = labels_data[i:i+5]\n",
    "        else:\n",
    "            break\n",
    "    \n",
    "#         print(inputs.shape)\n",
    "        # zero the parameter gradients\n",
    "        optimizer.zero_grad()\n",
    "\n",
    "        # forward + backward + optimize\n",
    "        outputs = net(inputs)\n",
    "#         print(labels_data[i])\n",
    "#         t = torch.ones(2, dtype=torch.int64)\n",
    "#         t[0] = labels_data[i]\n",
    "#         t[1] = labels_data[i+1]\n",
    "        loss = criterion(outputs, tag)\n",
    "        loss.backward()\n",
    "        optimizer.step()\n",
    "\n",
    "        # print statistics\n",
    "        running_loss += loss.item()\n",
    "        if i % 80 == 0:    # print every 2000 mini-batches\n",
    "            print('[%d, %5d] loss: %.3f' %\n",
    "                  (epoch + 1, i + 1, running_loss))\n",
    "            running_loss = 0.0\n",
    "#         print(i)\n",
    "        i = i + 2\n"
   ]
  },
  {
   "cell_type": "code",
   "execution_count": 121,
   "metadata": {},
   "outputs": [
    {
     "name": "stderr",
     "output_type": "stream",
     "text": [
      "/Users/yaohsiao/anaconda3/envs/cs231n/lib/python3.6/site-packages/torch/serialization.py:251: UserWarning: Couldn't retrieve source code for container of type Net. It won't be checked for correctness upon loading.\n",
      "  \"type \" + obj.__name__ + \". It won't be checked \"\n"
     ]
    }
   ],
   "source": [
    "torch.save(net, 'transfer_1.pt')"
   ]
  },
  {
   "cell_type": "code",
   "execution_count": 51,
   "metadata": {},
   "outputs": [
    {
     "data": {
      "text/plain": [
       "list"
      ]
     },
     "execution_count": 51,
     "metadata": {},
     "output_type": "execute_result"
    }
   ],
   "source": [
    "type(images_data)"
   ]
  },
  {
   "cell_type": "code",
   "execution_count": 64,
   "metadata": {},
   "outputs": [
    {
     "name": "stdout",
     "output_type": "stream",
     "text": [
      "411\n",
      "407\n",
      "Accuracy of the network training images: 0.990268 \n"
     ]
    }
   ],
   "source": [
    "idxls = []\n",
    "import random\n",
    "for i in range(10):\n",
    "    idxls.append(random.randint(0,410))\n",
    "\n",
    "correct = 0\n",
    "total = 0\n",
    "idxls = range(411)\n",
    "t = list([images_data[x] for x in idxls])\n",
    "q = list([labels_data[x] for x in idxls])\n",
    "images = torch.stack(t)\n",
    "labels = torch.stack(q)\n",
    "\n",
    "with torch.no_grad():\n",
    "#     for item in idxls:\n",
    "#     images, labels = images_data[item], labels_data[item]\n",
    "    outputs = net(images)\n",
    "    _, predicted = torch.max(outputs.data, 1)\n",
    "    total = len(idxls)\n",
    "    print(total)\n",
    "    correct = (predicted == labels).sum().item()\n",
    "    print(correct)\n",
    "\n",
    "print('Accuracy of the network training images: %f ' % (\n",
    "    1.0*correct / total))"
   ]
  },
  {
   "cell_type": "code",
   "execution_count": 75,
   "metadata": {},
   "outputs": [],
   "source": [
    "def imshow(img):\n",
    "    img = img / 2 + 0.5     # unnormalize\n",
    "    npimg = img.numpy()\n",
    "    plt.imshow(np.transpose(npimg, (1, 2, 0)))\n",
    "    plt.show()\n",
    "\n"
   ]
  },
  {
   "cell_type": "code",
   "execution_count": 110,
   "metadata": {},
   "outputs": [
    {
     "data": {
      "image/png": "[encoded data removed]",
      "text/plain": [
       "<Figure size 432x288 with 1 Axes>"
      ]
     },
     "metadata": {},
     "output_type": "display_data"
    },
    {
     "name": "stdout",
     "output_type": "stream",
     "text": [
      "tensor(1)\n"
     ]
    }
   ],
   "source": [
    "imshow(images_data[0])\n",
    "print(labels_data[0])"
   ]
  },
  {
   "cell_type": "code",
   "execution_count": 118,
   "metadata": {},
   "outputs": [
    {
     "name": "stdout",
     "output_type": "stream",
     "text": [
      "(225, 225)\n",
      "(187, 269)\n",
      "(300, 168)\n",
      "(275, 183)\n"
     ]
    }
   ],
   "source": [
    "test_data_base = '.'\n",
    "test_names = ['pikachu_1.jpg', 'dora.jpg', 'dora2.jpg', 'pika2.jpg']\n",
    "test_img = []\n",
    "for nm in test_names:\n",
    "    im = Image.open(os.path.join(test_data_base,nm))\n",
    "    print(im.size)\n",
    "    transform = transforms.Compose(\n",
    "        [\n",
    "        transforms.Resize((32,32)),\n",
    "         transforms.ToTensor(),\n",
    "         transforms.Normalize((0.5, 0.5, 0.5), (0.5, 0.5, 0.5))])\n",
    "    tm  = transform(im)\n",
    "    \n",
    "    test_img.append(tm)\n",
    "test_img = torch.stack(test_img)\n",
    "labels = torch.ones((4), dtype=torch.int64)\n",
    "labels[1] = 0\n",
    "labels[2] = 0"
   ]
  },
  {
   "cell_type": "code",
   "execution_count": 120,
   "metadata": {},
   "outputs": [
    {
     "data": {
      "image/png": "[encoded data removed]",
      "text/plain": [
       "<Figure size 432x288 with 1 Axes>"
      ]
     },
     "metadata": {},
     "output_type": "display_data"
    },
    {
     "data": {
      "image/png": "[encoded data removed]",
      "text/plain": [
       "<Figure size 432x288 with 1 Axes>"
      ]
     },
     "metadata": {},
     "output_type": "display_data"
    },
    {
     "data": {
      "image/png": "[encoded data removed]",
      "text/plain": [
       "<Figure size 432x288 with 1 Axes>"
      ]
     },
     "metadata": {},
     "output_type": "display_data"
    },
    {
     "data": {
      "image/png": "[encoded data removed]",
      "text/plain": [
       "<Figure size 432x288 with 1 Axes>"
      ]
     },
     "metadata": {},
     "output_type": "display_data"
    }
   ],
   "source": [
    "for item in test_img:\n",
    "    imshow(item)"
   ]
  },
  {
   "cell_type": "code",
   "execution_count": 119,
   "metadata": {},
   "outputs": [
    {
     "name": "stdout",
     "output_type": "stream",
     "text": [
      "tensor([0, 1, 0, 1])\n",
      "tensor([1, 0, 0, 1])\n",
      "2\n",
      "Accuracy of the network test images: 0.500000 \n"
     ]
    }
   ],
   "source": [
    "with torch.no_grad():\n",
    "#     for item in idxls:\n",
    "#     images, labels = images_data[item], labels_data[item]\n",
    "    outputs = net(test_img)\n",
    "    _, predicted = torch.max(outputs.data, 1)\n",
    "    total = len(labels)\n",
    "    print(predicted)\n",
    "    print(labels)\n",
    "    correct = (predicted == labels).sum().item()\n",
    "    print(correct)\n",
    "\n",
    "print('Accuracy of the network test images: %f ' % (\n",
    "    1.0*correct / total))"
   ]
  },
  {
   "cell_type": "code",
   "execution_count": null,
   "metadata": {},
   "outputs": [],
   "source": []
  },
  {
   "cell_type": "code",
   "execution_count": 123,
   "metadata": {},
   "outputs": [
    {
     "data": {
      "text/plain": [
       "[0]"
      ]
     },
     "execution_count": 123,
     "metadata": {},
     "output_type": "execute_result"
    }
   ],
   "source": [
    "list(range(0,-1,-3))"
   ]
  },
  {
   "cell_type": "code",
   "execution_count": null,
   "metadata": {},
   "outputs": [],
   "source": []
  }
 ],
 "metadata": {
  "kernelspec": {
   "display_name": "Python 3",
   "language": "python",
   "name": "python3"
  },
  "language_info": {
   "codemirror_mode": {
    "name": "ipython",
    "version": 3
   },
   "file_extension": ".py",
   "mimetype": "text/x-python",
   "name": "python",
   "nbconvert_exporter": "python",
   "pygments_lexer": "ipython3",
   "version": "3.6.6"
  }
 },
 "nbformat": 4,
 "nbformat_minor": 2
}
